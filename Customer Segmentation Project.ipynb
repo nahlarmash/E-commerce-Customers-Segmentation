{
 "cells": [
  {
   "cell_type": "markdown",
   "id": "0f1b9809-d789-46cf-98a5-8241061c8adc",
   "metadata": {},
   "source": [
    "# E-commerce Customers Segmentation"
   ]
  },
  {
   "cell_type": "markdown",
   "id": "a8c42c0c-258e-4d1a-a004-2159101e4b29",
   "metadata": {},
   "source": [
    "## Task:"
   ]
  },
  {
   "cell_type": "markdown",
   "id": "6a493ea2-26e5-422a-822c-3517170d149d",
   "metadata": {},
   "source": [
    "- Develop and train an unsupervised machine learning \n",
    "model to segment customers based on their transactional behavior and other relevant feature \r\n",
    "from the dataset. The goal is to identify customer groups that share similar behaviors and u e\r\n",
    "these segments to discuss strategies for offering coupons to increase loyalty and satisfaction."
   ]
  },
  {
   "cell_type": "markdown",
   "id": "101ea897-fbdd-4e1d-ab1e-e36badbb5d54",
   "metadata": {},
   "source": [
    "### 1. Data Importing and Loading"
   ]
  },
  {
   "cell_type": "code",
   "execution_count": 1,
   "id": "6ec4675d-67ae-451a-91f7-b30fae8f6111",
   "metadata": {},
   "outputs": [],
   "source": [
    "# Import libraries\n",
    "import pandas as pd\n",
    "import numpy as np\n",
    "import matplotlib.pyplot as plt\n",
    "import seaborn as sns\n",
    "from sklearn.cluster import KMeans\n",
    "from sklearn.preprocessing import StandardScaler\n",
    "from sklearn.metrics import silhouette_score"
   ]
  },
  {
   "cell_type": "code",
   "execution_count": 2,
   "id": "cbcaf6be-b7db-421a-bd01-17272bd8b0ae",
   "metadata": {},
   "outputs": [],
   "source": [
    "# Load data from Excel file\n",
    "excel_file = 'E-commerce_data.xlsx'\n",
    "transactions = pd.read_excel(excel_file, sheet_name='transactions')\n",
    "customers = pd.read_excel(excel_file, sheet_name='customers')\n",
    "genders = pd.read_excel(excel_file, sheet_name='genders')\n",
    "cities = pd.read_excel(excel_file, sheet_name='cities')\n",
    "branches = pd.read_excel(excel_file, sheet_name='branches')\n",
    "merchants = pd.read_excel(excel_file, sheet_name='merchants')"
   ]
  },
  {
   "cell_type": "markdown",
   "id": "e810ad0a-f06c-4e9e-b46e-73795aec9ba8",
   "metadata": {},
   "source": [
    "### 2. Feature Selection"
   ]
  },
  {
   "cell_type": "code",
   "execution_count": 3,
   "id": "f5b89c06-5dc5-4a05-a71a-b33647a5c43d",
   "metadata": {},
   "outputs": [],
   "source": [
    "# Merge transactions with customers\n",
    "merged_data = pd.merge(transactions, customers, on='customer_id', how='left')"
   ]
  },
  {
   "cell_type": "code",
   "execution_count": 4,
   "id": "6316430c-a2e5-47da-b49a-9c0c679b72d9",
   "metadata": {},
   "outputs": [],
   "source": [
    "# Merge with branches\n",
    "merged_data = pd.merge(merged_data, branches, on='branch_id', how='left')"
   ]
  },
  {
   "cell_type": "code",
   "execution_count": 5,
   "id": "cfec6fec-4824-4c68-8f01-271d21c7ede0",
   "metadata": {},
   "outputs": [],
   "source": [
    "# Merge with merchants\n",
    "merged_data = pd.merge(merged_data, merchants, on='merchant_id', how='left')"
   ]
  },
  {
   "cell_type": "code",
   "execution_count": 6,
   "id": "866b7ae5-9166-4a39-9f1b-8340fc11d216",
   "metadata": {},
   "outputs": [],
   "source": [
    "# Merge with genders\n",
    "merged_data = pd.merge(merged_data, genders, on='gender_id', how='left')"
   ]
  },
  {
   "cell_type": "code",
   "execution_count": 7,
   "id": "4092152c-5c66-4e43-bb10-f90d17a85139",
   "metadata": {},
   "outputs": [
    {
     "data": {
      "text/html": [
       "<div>\n",
       "<style scoped>\n",
       "    .dataframe tbody tr th:only-of-type {\n",
       "        vertical-align: middle;\n",
       "    }\n",
       "\n",
       "    .dataframe tbody tr th {\n",
       "        vertical-align: top;\n",
       "    }\n",
       "\n",
       "    .dataframe thead th {\n",
       "        text-align: right;\n",
       "    }\n",
       "</style>\n",
       "<table border=\"1\" class=\"dataframe\">\n",
       "  <thead>\n",
       "    <tr style=\"text-align: right;\">\n",
       "      <th></th>\n",
       "      <th>transaction_id</th>\n",
       "      <th>customer_id</th>\n",
       "      <th>transaction_date</th>\n",
       "      <th>transaction_status</th>\n",
       "      <th>coupon_name</th>\n",
       "      <th>burn_date</th>\n",
       "      <th>branch_id</th>\n",
       "      <th>join_date</th>\n",
       "      <th>city_id</th>\n",
       "      <th>gender_id</th>\n",
       "      <th>merchant_id</th>\n",
       "      <th>merchant_name</th>\n",
       "      <th>gender_name</th>\n",
       "      <th>city_name</th>\n",
       "    </tr>\n",
       "  </thead>\n",
       "  <tbody>\n",
       "    <tr>\n",
       "      <th>0</th>\n",
       "      <td>1</td>\n",
       "      <td>733</td>\n",
       "      <td>2024-05-11</td>\n",
       "      <td>subscribed</td>\n",
       "      <td>uNY-568</td>\n",
       "      <td>NaT</td>\n",
       "      <td>7</td>\n",
       "      <td>2023-05-16</td>\n",
       "      <td>15</td>\n",
       "      <td>2</td>\n",
       "      <td>7</td>\n",
       "      <td>Berry-Anderson</td>\n",
       "      <td>Female</td>\n",
       "      <td>Aswan</td>\n",
       "    </tr>\n",
       "    <tr>\n",
       "      <th>1</th>\n",
       "      <td>2</td>\n",
       "      <td>631</td>\n",
       "      <td>2023-05-15</td>\n",
       "      <td>burned</td>\n",
       "      <td>kBx-219</td>\n",
       "      <td>2023-06-04</td>\n",
       "      <td>5</td>\n",
       "      <td>2022-10-10</td>\n",
       "      <td>14</td>\n",
       "      <td>2</td>\n",
       "      <td>9</td>\n",
       "      <td>Campbell, Shaffer and Martinez</td>\n",
       "      <td>Female</td>\n",
       "      <td>Damietta</td>\n",
       "    </tr>\n",
       "    <tr>\n",
       "      <th>2</th>\n",
       "      <td>3</td>\n",
       "      <td>309</td>\n",
       "      <td>2022-11-13</td>\n",
       "      <td>subscribed</td>\n",
       "      <td>PLG-122</td>\n",
       "      <td>NaT</td>\n",
       "      <td>7</td>\n",
       "      <td>2022-05-30</td>\n",
       "      <td>2</td>\n",
       "      <td>1</td>\n",
       "      <td>7</td>\n",
       "      <td>Berry-Anderson</td>\n",
       "      <td>Male</td>\n",
       "      <td>Alexandria</td>\n",
       "    </tr>\n",
       "    <tr>\n",
       "      <th>3</th>\n",
       "      <td>4</td>\n",
       "      <td>695</td>\n",
       "      <td>2024-01-26</td>\n",
       "      <td>subscribed</td>\n",
       "      <td>Wzf-897</td>\n",
       "      <td>NaT</td>\n",
       "      <td>2</td>\n",
       "      <td>2023-11-27</td>\n",
       "      <td>15</td>\n",
       "      <td>2</td>\n",
       "      <td>18</td>\n",
       "      <td>Lewis LLC</td>\n",
       "      <td>Female</td>\n",
       "      <td>Aswan</td>\n",
       "    </tr>\n",
       "    <tr>\n",
       "      <th>4</th>\n",
       "      <td>5</td>\n",
       "      <td>288</td>\n",
       "      <td>2022-10-12</td>\n",
       "      <td>burned</td>\n",
       "      <td>qGb-428</td>\n",
       "      <td>2022-11-20</td>\n",
       "      <td>6</td>\n",
       "      <td>2021-09-04</td>\n",
       "      <td>14</td>\n",
       "      <td>1</td>\n",
       "      <td>15</td>\n",
       "      <td>Butler-Gomez</td>\n",
       "      <td>Male</td>\n",
       "      <td>Damietta</td>\n",
       "    </tr>\n",
       "  </tbody>\n",
       "</table>\n",
       "</div>"
      ],
      "text/plain": [
       "   transaction_id  customer_id transaction_date transaction_status  \\\n",
       "0               1          733       2024-05-11         subscribed   \n",
       "1               2          631       2023-05-15             burned   \n",
       "2               3          309       2022-11-13         subscribed   \n",
       "3               4          695       2024-01-26         subscribed   \n",
       "4               5          288       2022-10-12             burned   \n",
       "\n",
       "  coupon_name  burn_date  branch_id  join_date  city_id  gender_id  \\\n",
       "0     uNY-568        NaT          7 2023-05-16       15          2   \n",
       "1     kBx-219 2023-06-04          5 2022-10-10       14          2   \n",
       "2     PLG-122        NaT          7 2022-05-30        2          1   \n",
       "3     Wzf-897        NaT          2 2023-11-27       15          2   \n",
       "4     qGb-428 2022-11-20          6 2021-09-04       14          1   \n",
       "\n",
       "   merchant_id                   merchant_name gender_name   city_name  \n",
       "0            7                  Berry-Anderson      Female       Aswan  \n",
       "1            9  Campbell, Shaffer and Martinez      Female    Damietta  \n",
       "2            7                  Berry-Anderson        Male  Alexandria  \n",
       "3           18                       Lewis LLC      Female       Aswan  \n",
       "4           15                    Butler-Gomez        Male    Damietta  "
      ]
     },
     "execution_count": 7,
     "metadata": {},
     "output_type": "execute_result"
    }
   ],
   "source": [
    "# Merge with cities\n",
    "merged_data = pd.merge(merged_data, cities, on='city_id', how='left')\n",
    "\n",
    "merged_data.head()"
   ]
  },
  {
   "cell_type": "code",
   "execution_count": 8,
   "id": "9c3adf4a-0181-4a06-8165-61373d33b7c7",
   "metadata": {},
   "outputs": [
    {
     "data": {
      "text/html": [
       "<div>\n",
       "<style scoped>\n",
       "    .dataframe tbody tr th:only-of-type {\n",
       "        vertical-align: middle;\n",
       "    }\n",
       "\n",
       "    .dataframe tbody tr th {\n",
       "        vertical-align: top;\n",
       "    }\n",
       "\n",
       "    .dataframe thead th {\n",
       "        text-align: right;\n",
       "    }\n",
       "</style>\n",
       "<table border=\"1\" class=\"dataframe\">\n",
       "  <thead>\n",
       "    <tr style=\"text-align: right;\">\n",
       "      <th></th>\n",
       "      <th>customer_id</th>\n",
       "      <th>coupon_usage_frequency</th>\n",
       "    </tr>\n",
       "  </thead>\n",
       "  <tbody>\n",
       "    <tr>\n",
       "      <th>0</th>\n",
       "      <td>1</td>\n",
       "      <td>7</td>\n",
       "    </tr>\n",
       "    <tr>\n",
       "      <th>1</th>\n",
       "      <td>2</td>\n",
       "      <td>3</td>\n",
       "    </tr>\n",
       "    <tr>\n",
       "      <th>2</th>\n",
       "      <td>3</td>\n",
       "      <td>5</td>\n",
       "    </tr>\n",
       "    <tr>\n",
       "      <th>3</th>\n",
       "      <td>4</td>\n",
       "      <td>1</td>\n",
       "    </tr>\n",
       "    <tr>\n",
       "      <th>4</th>\n",
       "      <td>5</td>\n",
       "      <td>4</td>\n",
       "    </tr>\n",
       "    <tr>\n",
       "      <th>...</th>\n",
       "      <td>...</td>\n",
       "      <td>...</td>\n",
       "    </tr>\n",
       "    <tr>\n",
       "      <th>984</th>\n",
       "      <td>996</td>\n",
       "      <td>3</td>\n",
       "    </tr>\n",
       "    <tr>\n",
       "      <th>985</th>\n",
       "      <td>997</td>\n",
       "      <td>3</td>\n",
       "    </tr>\n",
       "    <tr>\n",
       "      <th>986</th>\n",
       "      <td>998</td>\n",
       "      <td>4</td>\n",
       "    </tr>\n",
       "    <tr>\n",
       "      <th>987</th>\n",
       "      <td>999</td>\n",
       "      <td>4</td>\n",
       "    </tr>\n",
       "    <tr>\n",
       "      <th>988</th>\n",
       "      <td>1000</td>\n",
       "      <td>2</td>\n",
       "    </tr>\n",
       "  </tbody>\n",
       "</table>\n",
       "<p>989 rows × 2 columns</p>\n",
       "</div>"
      ],
      "text/plain": [
       "     customer_id  coupon_usage_frequency\n",
       "0              1                       7\n",
       "1              2                       3\n",
       "2              3                       5\n",
       "3              4                       1\n",
       "4              5                       4\n",
       "..           ...                     ...\n",
       "984          996                       3\n",
       "985          997                       3\n",
       "986          998                       4\n",
       "987          999                       4\n",
       "988         1000                       2\n",
       "\n",
       "[989 rows x 2 columns]"
      ]
     },
     "execution_count": 8,
     "metadata": {},
     "output_type": "execute_result"
    }
   ],
   "source": [
    "# Create coupon usage frequency and burned coupon frequency\n",
    "coupon_usage = merged_data.groupby('customer_id')['transaction_id'].count().reset_index()\n",
    "coupon_usage.columns = ['customer_id', 'coupon_usage_frequency']\n",
    "\n",
    "coupon_usage.head()"
   ]
  },
  {
   "cell_type": "code",
   "execution_count": 9,
   "id": "fa5d968b-cd67-40ad-8579-c3a71c01142c",
   "metadata": {},
   "outputs": [
    {
     "data": {
      "text/html": [
       "<div>\n",
       "<style scoped>\n",
       "    .dataframe tbody tr th:only-of-type {\n",
       "        vertical-align: middle;\n",
       "    }\n",
       "\n",
       "    .dataframe tbody tr th {\n",
       "        vertical-align: top;\n",
       "    }\n",
       "\n",
       "    .dataframe thead th {\n",
       "        text-align: right;\n",
       "    }\n",
       "</style>\n",
       "<table border=\"1\" class=\"dataframe\">\n",
       "  <thead>\n",
       "    <tr style=\"text-align: right;\">\n",
       "      <th></th>\n",
       "      <th>customer_id</th>\n",
       "      <th>burned_coupon_count</th>\n",
       "    </tr>\n",
       "  </thead>\n",
       "  <tbody>\n",
       "    <tr>\n",
       "      <th>0</th>\n",
       "      <td>1</td>\n",
       "      <td>3</td>\n",
       "    </tr>\n",
       "    <tr>\n",
       "      <th>1</th>\n",
       "      <td>2</td>\n",
       "      <td>1</td>\n",
       "    </tr>\n",
       "    <tr>\n",
       "      <th>2</th>\n",
       "      <td>3</td>\n",
       "      <td>1</td>\n",
       "    </tr>\n",
       "    <tr>\n",
       "      <th>3</th>\n",
       "      <td>5</td>\n",
       "      <td>3</td>\n",
       "    </tr>\n",
       "    <tr>\n",
       "      <th>4</th>\n",
       "      <td>6</td>\n",
       "      <td>4</td>\n",
       "    </tr>\n",
       "    <tr>\n",
       "      <th>...</th>\n",
       "      <td>...</td>\n",
       "      <td>...</td>\n",
       "    </tr>\n",
       "    <tr>\n",
       "      <th>904</th>\n",
       "      <td>995</td>\n",
       "      <td>2</td>\n",
       "    </tr>\n",
       "    <tr>\n",
       "      <th>905</th>\n",
       "      <td>997</td>\n",
       "      <td>1</td>\n",
       "    </tr>\n",
       "    <tr>\n",
       "      <th>906</th>\n",
       "      <td>998</td>\n",
       "      <td>3</td>\n",
       "    </tr>\n",
       "    <tr>\n",
       "      <th>907</th>\n",
       "      <td>999</td>\n",
       "      <td>4</td>\n",
       "    </tr>\n",
       "    <tr>\n",
       "      <th>908</th>\n",
       "      <td>1000</td>\n",
       "      <td>1</td>\n",
       "    </tr>\n",
       "  </tbody>\n",
       "</table>\n",
       "<p>909 rows × 2 columns</p>\n",
       "</div>"
      ],
      "text/plain": [
       "     customer_id  burned_coupon_count\n",
       "0              1                    3\n",
       "1              2                    1\n",
       "2              3                    1\n",
       "3              5                    3\n",
       "4              6                    4\n",
       "..           ...                  ...\n",
       "904          995                    2\n",
       "905          997                    1\n",
       "906          998                    3\n",
       "907          999                    4\n",
       "908         1000                    1\n",
       "\n",
       "[909 rows x 2 columns]"
      ]
     },
     "execution_count": 9,
     "metadata": {},
     "output_type": "execute_result"
    }
   ],
   "source": [
    "# Create burned coupon frequency (transaction_status = 'burned')\n",
    "burned_coupons = merged_data[merged_data['transaction_status'] == 'burned'].groupby('customer_id')['transaction_id'].count().reset_index()\n",
    "burned_coupons.columns = ['customer_id', 'burned_coupon_count']\n",
    "\n",
    "burned_coupons"
   ]
  },
  {
   "cell_type": "code",
   "execution_count": 10,
   "id": "34c867d7-27e4-444e-b4a7-72e4c8e51da4",
   "metadata": {},
   "outputs": [
    {
     "data": {
      "text/html": [
       "<div>\n",
       "<style scoped>\n",
       "    .dataframe tbody tr th:only-of-type {\n",
       "        vertical-align: middle;\n",
       "    }\n",
       "\n",
       "    .dataframe tbody tr th {\n",
       "        vertical-align: top;\n",
       "    }\n",
       "\n",
       "    .dataframe thead th {\n",
       "        text-align: right;\n",
       "    }\n",
       "</style>\n",
       "<table border=\"1\" class=\"dataframe\">\n",
       "  <thead>\n",
       "    <tr style=\"text-align: right;\">\n",
       "      <th></th>\n",
       "      <th>customer_id</th>\n",
       "      <th>coupon_usage_frequency</th>\n",
       "      <th>burned_coupon_count</th>\n",
       "    </tr>\n",
       "  </thead>\n",
       "  <tbody>\n",
       "    <tr>\n",
       "      <th>0</th>\n",
       "      <td>1</td>\n",
       "      <td>7</td>\n",
       "      <td>3.0</td>\n",
       "    </tr>\n",
       "    <tr>\n",
       "      <th>1</th>\n",
       "      <td>2</td>\n",
       "      <td>3</td>\n",
       "      <td>1.0</td>\n",
       "    </tr>\n",
       "    <tr>\n",
       "      <th>2</th>\n",
       "      <td>3</td>\n",
       "      <td>5</td>\n",
       "      <td>1.0</td>\n",
       "    </tr>\n",
       "    <tr>\n",
       "      <th>3</th>\n",
       "      <td>4</td>\n",
       "      <td>1</td>\n",
       "      <td>NaN</td>\n",
       "    </tr>\n",
       "    <tr>\n",
       "      <th>4</th>\n",
       "      <td>5</td>\n",
       "      <td>4</td>\n",
       "      <td>3.0</td>\n",
       "    </tr>\n",
       "    <tr>\n",
       "      <th>...</th>\n",
       "      <td>...</td>\n",
       "      <td>...</td>\n",
       "      <td>...</td>\n",
       "    </tr>\n",
       "    <tr>\n",
       "      <th>984</th>\n",
       "      <td>996</td>\n",
       "      <td>3</td>\n",
       "      <td>NaN</td>\n",
       "    </tr>\n",
       "    <tr>\n",
       "      <th>985</th>\n",
       "      <td>997</td>\n",
       "      <td>3</td>\n",
       "      <td>1.0</td>\n",
       "    </tr>\n",
       "    <tr>\n",
       "      <th>986</th>\n",
       "      <td>998</td>\n",
       "      <td>4</td>\n",
       "      <td>3.0</td>\n",
       "    </tr>\n",
       "    <tr>\n",
       "      <th>987</th>\n",
       "      <td>999</td>\n",
       "      <td>4</td>\n",
       "      <td>4.0</td>\n",
       "    </tr>\n",
       "    <tr>\n",
       "      <th>988</th>\n",
       "      <td>1000</td>\n",
       "      <td>2</td>\n",
       "      <td>1.0</td>\n",
       "    </tr>\n",
       "  </tbody>\n",
       "</table>\n",
       "<p>989 rows × 3 columns</p>\n",
       "</div>"
      ],
      "text/plain": [
       "     customer_id  coupon_usage_frequency  burned_coupon_count\n",
       "0              1                       7                  3.0\n",
       "1              2                       3                  1.0\n",
       "2              3                       5                  1.0\n",
       "3              4                       1                  NaN\n",
       "4              5                       4                  3.0\n",
       "..           ...                     ...                  ...\n",
       "984          996                       3                  NaN\n",
       "985          997                       3                  1.0\n",
       "986          998                       4                  3.0\n",
       "987          999                       4                  4.0\n",
       "988         1000                       2                  1.0\n",
       "\n",
       "[989 rows x 3 columns]"
      ]
     },
     "execution_count": 10,
     "metadata": {},
     "output_type": "execute_result"
    }
   ],
   "source": [
    "# Merge these features back to the main dataframe\n",
    "segmentation_data = pd.merge(coupon_usage, burned_coupons, on='customer_id', how='left')\n",
    "\n",
    "segmentation_data"
   ]
  },
  {
   "cell_type": "code",
   "execution_count": 11,
   "id": "3729ad74-6319-47b3-91f1-4768ca64538c",
   "metadata": {},
   "outputs": [],
   "source": [
    "# Fill missing values with 0 (for customers who never burned a coupon)\n",
    "segmentation_data['burned_coupon_count'] = segmentation_data['burned_coupon_count'].fillna(0)"
   ]
  },
  {
   "cell_type": "code",
   "execution_count": 12,
   "id": "51284b6c-4675-4d33-b485-f7ca82f10812",
   "metadata": {},
   "outputs": [],
   "source": [
    "# Add demographic features like gender and city\n",
    "segmentation_data = pd.merge(segmentation_data, merged_data[['customer_id', 'gender_name', 'city_name']].drop_duplicates(), on='customer_id', how='left')"
   ]
  },
  {
   "cell_type": "markdown",
   "id": "1c48dcbc-3f5c-4687-b3bd-abf40bf36c46",
   "metadata": {},
   "source": [
    "### 3. Model Development"
   ]
  },
  {
   "cell_type": "code",
   "execution_count": 13,
   "id": "174df1aa-57aa-4767-8e63-dbc5fba7ae53",
   "metadata": {},
   "outputs": [],
   "source": [
    "# Select relevant features for clustering\n",
    "X = segmentation_data[['coupon_usage_frequency', 'burned_coupon_count']]"
   ]
  },
  {
   "cell_type": "code",
   "execution_count": 14,
   "id": "5a0b133c-3451-4771-8466-2f83173cb6e1",
   "metadata": {},
   "outputs": [],
   "source": [
    "# Standardize the data\n",
    "scaler = StandardScaler()\n",
    "X_scaled = scaler.fit_transform(X)"
   ]
  },
  {
   "cell_type": "code",
   "execution_count": null,
   "id": "5620759e-2018-40dc-8095-3272da422c4a",
   "metadata": {},
   "outputs": [],
   "source": [
    "# Apply KMeans with a range of clusters and evaluate the elbow method\n",
    "inertia = []\n",
    "K_range = range(1, 11)\n",
    "\n",
    "for k in K_range:\n",
    "    kmeans = KMeans(n_clusters=k, random_state=42)\n",
    "    kmeans.fit(X_scaled)\n",
    "    inertia.append(kmeans.inertia_)"
   ]
  },
  {
   "cell_type": "code",
   "execution_count": 16,
   "id": "c9a4cc2d-71d5-4d25-b508-9a644e24ec48",
   "metadata": {},
   "outputs": [
    {
     "data": {
      "image/png": "[encoded data removed]",
      "text/plain": [
       "<Figure size 800x500 with 1 Axes>"
      ]
     },
     "metadata": {},
     "output_type": "display_data"
    }
   ],
   "source": [
    "# Step 5: Visualize the Elbow Method\n",
    "plt.figure(figsize=(8, 5))\n",
    "plt.plot(K_range, inertia, 'bo-', markersize=8)\n",
    "plt.xlabel('Number of clusters (K)')\n",
    "plt.ylabel('Inertia')\n",
    "plt.title('Elbow Method for Optimal K')\n",
    "plt.show()"
   ]
  },
  {
   "cell_type": "code",
   "execution_count": null,
   "id": "a9a02415-6ada-4e3e-9196-e366c1a86f28",
   "metadata": {},
   "outputs": [],
   "source": [
    "# Step 6: Apply KMeans with the optimal number of clusters (based on elbow curve)\n",
    "optimal_k = 3  \n",
    "kmeans = KMeans(n_clusters=optimal_k, random_state=42)\n",
    "segmentation_data['cluster'] = kmeans.fit_predict(X_scaled)"
   ]
  },
  {
   "cell_type": "markdown",
   "id": "c36b9d5b-0dee-4907-9f97-b23bf1b22d9f",
   "metadata": {},
   "source": [
    "### 4. Model Evaluation"
   ]
  },
  {
   "cell_type": "code",
   "execution_count": 18,
   "id": "548d52c3-be06-4c2a-98ff-41aa08b750fb",
   "metadata": {},
   "outputs": [
    {
     "name": "stdout",
     "output_type": "stream",
     "text": [
      "Silhouette Score: 0.40166997511693786\n"
     ]
    }
   ],
   "source": [
    "# Silhouette Score\n",
    "silhouette_avg = silhouette_score(X_scaled, segmentation_data['cluster'])\n",
    "print(f'Silhouette Score: {silhouette_avg}')"
   ]
  },
  {
   "cell_type": "markdown",
   "id": "a7f25083-56ae-49fe-9afe-5c48c5252b4a",
   "metadata": {},
   "source": [
    "### 5. Visualizing the Clusters"
   ]
  },
  {
   "cell_type": "code",
   "execution_count": 19,
   "id": "8d396b16-a0b8-4e11-9cda-ff11c24f7c3a",
   "metadata": {},
   "outputs": [],
   "source": [
    "# Centroids are in the scaled space, so inverse transform them to the original space\n",
    "centroids_scaled = kmeans.cluster_centers_\n",
    "centroids_original = scaler.inverse_transform(centroids_scaled)"
   ]
  },
  {
   "cell_type": "code",
   "execution_count": 20,
   "id": "a9978ed5-af8e-42db-b64e-a008726dccbd",
   "metadata": {},
   "outputs": [],
   "source": [
    "# Convert the centroids to a DataFrame for plotting\n",
    "centroids_df = pd.DataFrame(centroids_original, columns=['coupon_usage_frequency', 'burned_coupon_count'])"
   ]
  },
  {
   "cell_type": "code",
   "execution_count": 21,
   "id": "4df6cc61-2652-4de8-9cc6-42ada24afc26",
   "metadata": {},
   "outputs": [
    {
     "data": {
      "image/png": "[encoded data removed]",
      "text/plain": [
       "<Figure size 1200x600 with 1 Axes>"
      ]
     },
     "metadata": {},
     "output_type": "display_data"
    }
   ],
   "source": [
    "# Plot the data points and centroids\n",
    "plt.figure(figsize=(12, 6))\n",
    "sns.scatterplot(data=segmentation_data, \n",
    "                x='coupon_usage_frequency', \n",
    "                y='burned_coupon_count', \n",
    "                hue='cluster', \n",
    "                palette='rainbow_r', \n",
    "                s=50)\n",
    "\n",
    "# Plot the centroids on the original scale\n",
    "sns.scatterplot(data=centroids_df, \n",
    "                x='coupon_usage_frequency', \n",
    "                y='burned_coupon_count', \n",
    "                color='green', \n",
    "                s=100, \n",
    "                label='Centroids', \n",
    "                marker='^')\n",
    "\n",
    "plt.title('Customer Segments Based on Coupon Usage and Burned Count')\n",
    "plt.xlabel('Coupon Usage Frequency')\n",
    "plt.ylabel('Burned Coupon Count')\n",
    "plt.legend()\n",
    "plt.show()"
   ]
  },
  {
   "cell_type": "markdown",
   "id": "5264d935-b5d4-4aa2-be56-bf60d82888a6",
   "metadata": {},
   "source": [
    "- Cluster 0 (Red) customers in this cluster are heavy coupon users, as they burn a lot of coupons and use them frequently.\n",
    "- Cluster 1 (Light Blue) comprises customers who rarely use coupons, with lower coupon frequency and burned counts.\n",
    "- Cluster 2 (Purple) is in between, where customers use coupons more moderately."
   ]
  },
  {
   "cell_type": "markdown",
   "id": "8f8f9b75-d0b3-439b-bef6-e6526b328737",
   "metadata": {},
   "source": [
    "### 6. Segment Analysis"
   ]
  },
  {
   "cell_type": "code",
   "execution_count": 22,
   "id": "34cf44ca-ca66-4b99-b556-2caf0665909c",
   "metadata": {},
   "outputs": [
    {
     "data": {
      "text/html": [
       "<div>\n",
       "<style scoped>\n",
       "    .dataframe tbody tr th:only-of-type {\n",
       "        vertical-align: middle;\n",
       "    }\n",
       "\n",
       "    .dataframe tbody tr th {\n",
       "        vertical-align: top;\n",
       "    }\n",
       "\n",
       "    .dataframe thead th {\n",
       "        text-align: right;\n",
       "    }\n",
       "</style>\n",
       "<table border=\"1\" class=\"dataframe\">\n",
       "  <thead>\n",
       "    <tr style=\"text-align: right;\">\n",
       "      <th></th>\n",
       "      <th>cluster</th>\n",
       "      <th>coupon_usage_frequency</th>\n",
       "      <th>burned_coupon_count</th>\n",
       "      <th>gender_name</th>\n",
       "      <th>city_name</th>\n",
       "    </tr>\n",
       "  </thead>\n",
       "  <tbody>\n",
       "    <tr>\n",
       "      <th>0</th>\n",
       "      <td>0</td>\n",
       "      <td>8.206704</td>\n",
       "      <td>4.877095</td>\n",
       "      <td>Male</td>\n",
       "      <td>Port Said</td>\n",
       "    </tr>\n",
       "    <tr>\n",
       "      <th>1</th>\n",
       "      <td>1</td>\n",
       "      <td>2.997462</td>\n",
       "      <td>1.228426</td>\n",
       "      <td>Male</td>\n",
       "      <td>Damanhur</td>\n",
       "    </tr>\n",
       "    <tr>\n",
       "      <th>2</th>\n",
       "      <td>2</td>\n",
       "      <td>5.649038</td>\n",
       "      <td>2.786058</td>\n",
       "      <td>Female</td>\n",
       "      <td>Giza</td>\n",
       "    </tr>\n",
       "  </tbody>\n",
       "</table>\n",
       "</div>"
      ],
      "text/plain": [
       "   cluster  coupon_usage_frequency  burned_coupon_count gender_name  city_name\n",
       "0        0                8.206704             4.877095        Male  Port Said\n",
       "1        1                2.997462             1.228426        Male   Damanhur\n",
       "2        2                5.649038             2.786058      Female       Giza"
      ]
     },
     "execution_count": 22,
     "metadata": {},
     "output_type": "execute_result"
    }
   ],
   "source": [
    "segment_analysis = segmentation_data.groupby('cluster').agg({\n",
    "    'coupon_usage_frequency': 'mean',\n",
    "    'burned_coupon_count': 'mean',\n",
    "    'gender_name': lambda x: x.mode()[0],  # Most common gender\n",
    "    'city_name': lambda x: x.mode()[0]     # Most common city\n",
    "}).reset_index()\n",
    "\n",
    "segment_analysis"
   ]
  },
  {
   "cell_type": "markdown",
   "id": "85923a0e-8a9d-4efd-99bc-0e88664cd969",
   "metadata": {},
   "source": [
    "#### Key Insights:"
   ]
  },
  {
   "cell_type": "markdown",
   "id": "18aa2b0f-84bb-417c-9a17-e75f5feb1929",
   "metadata": {},
   "source": [
    "1. **Cluster 0:**\n",
    "- **High coupon usage frequency** and **high burned coupon count**.\n",
    "- Predominantly **Male** from **Port Said**.\n",
    "- This group represents loyal and engaged customers. Offering additional **loyalty rewards or exclusive coupons** would likely increase their satisfaction and loyalty."
   ]
  },
  {
   "cell_type": "markdown",
   "id": "88cd25a5-7783-4253-a9ff-64af323b7f27",
   "metadata": {},
   "source": [
    "2. **Cluster 1:**\n",
    "- **Low coupon usage frequency** and **low burned coupon count**.\n",
    "- Predominantly **Male** from **Damanhur**.\n",
    "- This group shows low engagement with coupons. Targeted **promotional campaigns** or **re-engagement strategies** (such as introductory offers or first-time coupon use bonuses) could help increase their activity."
   ]
  },
  {
   "cell_type": "markdown",
   "id": "861ef8e3-0951-4fc1-af8e-3922ea6f6336",
   "metadata": {},
   "source": [
    "3. **Cluster 2:**"
   ]
  },
  {
   "cell_type": "markdown",
   "id": "c92b3b37-5c76-4100-8dce-dae35d8e40fc",
   "metadata": {},
   "source": [
    "- **Moderate coupon usage frequency** and **moderate burned coupon count**.\n",
    "- Predominantly **Female** from **Giza**.\n",
    "- This group is moderately engaged. **Retention-focused offers**, such as time-limited discounts or combo offers, may help maintain and even increase their engagement."
   ]
  },
  {
   "cell_type": "markdown",
   "id": "8f27216e-0bd9-4b11-ac0d-e2f4d2a17e07",
   "metadata": {},
   "source": [
    "#### Author: Nahla Mohamed"
   ]
  }
 ],
 "metadata": {
  "kernelspec": {
   "display_name": "Python 3 (ipykernel)",
   "language": "python",
   "name": "python3"
  },
  "language_info": {
   "codemirror_mode": {
    "name": "ipython",
    "version": 3
   },
   "file_extension": ".py",
   "mimetype": "text/x-python",
   "name": "python",
   "nbconvert_exporter": "python",
   "pygments_lexer": "ipython3",
   "version": "3.11.7"
  }
 },
 "nbformat": 4,
 "nbformat_minor": 5
}
